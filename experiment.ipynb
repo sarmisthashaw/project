{
 "cells": [
  {
   "cell_type": "code",
   "execution_count": 8,
   "metadata": {},
   "outputs": [
    {
     "name": "stdout",
     "output_type": "stream",
     "text": [
      "#F3C117\n",
      "#F3C117\n",
      "#F3C117\n",
      "#F3C117\n",
      "#E8E8E8\n"
     ]
    }
   ],
   "source": [
    "from selenium import webdriver\n",
    "from selenium.webdriver.common.by import By\n",
    "\n",
    "driver = webdriver.Edge()\n",
    "\n",
    "order_link = 'https://www.zomato.com/agra/bistro-57-1-civil-lines/order'\n",
    "driver.get(order_link)\n",
    "\n",
    "driver.implicitly_wait(10)\n",
    "\n",
    "star_elements = driver.find_elements(By.XPATH, '//*[@id=\"root\"]/div/main/div/section[4]/section/section[2]/section[2]/div[2]/div[1]/div/div/div[2]/div/div/div[2]/div/i')\n",
    "for i in star_elements:\n",
    "    print(i.get_attribute('color'))"
   ]
  },
  {
   "cell_type": "code",
   "execution_count": 9,
   "metadata": {},
   "outputs": [
    {
     "name": "stdout",
     "output_type": "stream",
     "text": [
      "Star Color Code: #F3C117\n",
      "Star Color Code: #F3C117\n",
      "Star Color Code: #F3C117\n",
      "Star Color Code: #F3C117\n",
      "Total Ratings : 4\n"
     ]
    }
   ],
   "source": [
    "total_ratings = 0\n",
    "\n",
    "for star_element in star_elements:\n",
    "    star_color = star_element.get_attribute('color')\n",
    "    if star_color.lower() == \"#f3c117\":\n",
    "        total_ratings += 1\n",
    "        print(\"Star Color Code:\", star_color)\n",
    "\n",
    "print(\"Total Ratings :\", total_ratings)\n",
    "\n",
    "# Close the browser\n",
    "driver.quit()"
   ]
  },
  {
   "cell_type": "code",
   "execution_count": 3,
   "metadata": {},
   "outputs": [
    {
     "name": "stdout",
     "output_type": "stream",
     "text": [
      "Restaurant Name: Bistro 57\n",
      "3.9\n",
      "star-fill\n",
      "Cafe, Pasta, Pizza, Burger, Coffee, Fast Food\n",
      "₹600 for two\n",
      "Civil Lines, Agra\n",
      "3.3 km\n",
      "Restaurant URL: https://www.zomato.com/agra/bistro-57-1-civil-lines/info\n",
      "Order Online Link: ['https://www.zomato.com/agra/bistro-57-1-civil-lines/order']\n",
      "Star Element Text: \n",
      "Star Color Code: #F3C117\n",
      "Star Element Text: \n",
      "Star Color Code: #F3C117\n",
      "Star Element Text: \n",
      "Star Color Code: #F3C117\n",
      "Star Element Text: \n",
      "Star Color Code: #F3C117\n",
      "Total Ratings for #F3C117 Stars: 4\n"
     ]
    }
   ],
   "source": []
  },
  {
   "cell_type": "code",
   "execution_count": 173,
   "metadata": {},
   "outputs": [
    {
     "name": "stdout",
     "output_type": "stream",
     "text": [
      "Restaurant Name: The Nawaabs\n",
      "4.3\n",
      "star-fill\n",
      "Mughlai, North Indian, Biryani, Kebab, Beverages\n",
      "₹1,100 for two\n",
      "Tajganj, Agra\n",
      "2.7 km\n",
      "Restaurant URL: https://www.zomato.com/agra/the-nawaabs-tajganj/info\n"
     ]
    }
   ],
   "source": [
    "from selenium import webdriver\n",
    "from selenium.webdriver.common.by import By\n",
    "driver = webdriver.Edge()\n",
    "driver.get(r\"C:\\Users\\SRIJAN\\OneDrive - S. Jaykishan\\Desktop\\Project Data\\Trending dining restaurants in Agra - Zomato.html\")\n",
    "rest = driver.find_element(By.XPATH, '//*[@id=\"root\"]/div/div[10]/div/div[1]/div/div/a[2]')  \n",
    "restaurant_name = rest.text\n",
    "restaurant_url = rest.get_attribute('href')\n",
    "\n",
    "print(\"Restaurant Name:\", restaurant_name)\n",
    "print(\"Restaurant URL:\", restaurant_url)"
   ]
  },
  {
   "cell_type": "code",
   "execution_count": 174,
   "metadata": {},
   "outputs": [
    {
     "name": "stdout",
     "output_type": "stream",
     "text": [
      "Order Online Link: ['https://www.zomato.com/agra/the-nawaabs-tajganj/order']\n",
      "[<selenium.webdriver.remote.webelement.WebElement (session=\"d451330e6bf18c2c6f2bcaf0c1b7582a\", element=\"A6D28D3C4743D34C938C2E1BCA247349_element_3765\")>]\n",
      "Veg Biryani\n",
      "37 votes\n",
      "₹269\n"
     ]
    }
   ],
   "source": [
    "\n",
    "driver.get(restaurant_url)\n",
    "order_online_links = driver.find_elements(By.CSS_SELECTOR, '.sc-1y3q50z-5.jPTnRn a') \n",
    "order_online_link = [link.get_attribute('href') for link in order_online_links if 'Order Online' in link.text]\n",
    "print(\"Order Online Link:\", order_online_link)\n",
    "if order_online_link:\n",
    "    driver.get(order_online_link[0])\n",
    "    driver.implicitly_wait(10)\n",
    "    food_items = driver.find_elements(By.XPATH, '//*[@id=\"root\"]/div/main/div/section[4]/section/section[2]/section[2]/div[2]/div[1]/div/div/div[2]/div/div')\n",
    "    print(food_items)\n",
    "    for i in food_items:\n",
    "        print(i.text)\n",
    "   "
   ]
  },
  {
   "cell_type": "code",
   "execution_count": 1,
   "metadata": {},
   "outputs": [
    {
     "ename": "NameError",
     "evalue": "name 'driver' is not defined",
     "output_type": "error",
     "traceback": [
      "\u001b[1;31m---------------------------------------------------------------------------\u001b[0m",
      "\u001b[1;31mNameError\u001b[0m                                 Traceback (most recent call last)",
      "Cell \u001b[1;32mIn[1], line 1\u001b[0m\n\u001b[1;32m----> 1\u001b[0m \u001b[43mdriver\u001b[49m\u001b[38;5;241m.\u001b[39mget(restaurant_url)\n\u001b[0;32m      2\u001b[0m order_online_links \u001b[38;5;241m=\u001b[39m driver\u001b[38;5;241m.\u001b[39mfind_elements(By\u001b[38;5;241m.\u001b[39mCSS_SELECTOR, \u001b[38;5;124m'\u001b[39m\u001b[38;5;124m.sc-1y3q50z-5.jPTnRn a\u001b[39m\u001b[38;5;124m'\u001b[39m) \n\u001b[0;32m      3\u001b[0m order_online_link \u001b[38;5;241m=\u001b[39m [link\u001b[38;5;241m.\u001b[39mget_attribute(\u001b[38;5;124m'\u001b[39m\u001b[38;5;124mhref\u001b[39m\u001b[38;5;124m'\u001b[39m) \u001b[38;5;28;01mfor\u001b[39;00m link \u001b[38;5;129;01min\u001b[39;00m order_online_links \u001b[38;5;28;01mif\u001b[39;00m \u001b[38;5;124m'\u001b[39m\u001b[38;5;124mOrder Online\u001b[39m\u001b[38;5;124m'\u001b[39m \u001b[38;5;129;01min\u001b[39;00m link\u001b[38;5;241m.\u001b[39mtext]\n",
      "\u001b[1;31mNameError\u001b[0m: name 'driver' is not defined"
     ]
    }
   ],
   "source": [
    "driver.get(restaurant_url)\n",
    "order_online_links = driver.find_elements(By.CSS_SELECTOR, '.sc-1y3q50z-5.jPTnRn a') \n",
    "order_online_link = [link.get_attribute('href') for link in order_online_links if 'Order Online' in link.text]\n",
    "print(\"Order Online Link:\", order_online_link)\n",
    "if order_online_link:\n",
    "    driver.get(order_online_link[0])\n",
    "    driver.implicitly_wait(10)\n",
    "    food_items = driver.find_elements(By.XPATH, '//*[@id=\"root\"]/div/main/div/section[4]/section/section[2]/section[2]/div[2]/div[1]/div/div/div[2]/div/div')\n",
    "    print(food_items)\n",
    "    for i in food_items:\n",
    "        print(i.text)\n",
    "   "
   ]
  },
  {
   "cell_type": "code",
   "execution_count": 139,
   "metadata": {},
   "outputs": [],
   "source": [
    "\n",
    "\n",
    "# driver.get(restaurant_url)\n",
    "# order_online_links = driver.find_elements(By.CSS_SELECTOR, '.sc-1y3q50z-5.jPTnRn a') \n",
    "# order_online_link = [link.get_attribute('href') for link in order_online_links if 'Order Online' in link.text]\n",
    "# print(\"Order Online Link:\", order_online_link)\n",
    "# if order_online_link:\n",
    "#     driver.get(order_online_link[0])\n",
    "#     driver.implicitly_wait(10)\n",
    "#     food_items = driver.find_elements(By.XPATH, '//*[@id=\"root\"]/div/main/div/section[4]/section/section[2]/section[2]/div[2]/div[1]/div/div/div[2]/div/div')\n",
    "#     print(food_items)\n",
    "#     for i in food_items:\n",
    "#         print(i.text)\n",
    "\n",
    "#     star_elements = driver.find_elements(By.XPATH, '//*[@id=\"root\"]/div/main/div/section[4]/section/section[2]/section[2]/div[2]/div[1]/div/div/div[2]/div/div/div[1]/div/i')\n",
    "#     total_ratings = 0\n",
    "\n",
    "\n",
    "#     for star_element in star_elements:\n",
    "#         star_color = star_element.get_attribute('color')\n",
    "    \n",
    "#         if star_color.lower() == \"#f3c117\":\n",
    "#             # Add the ratings to the total\n",
    "#             total_ratings += 1\n",
    "\n",
    "#             # Print the text content of the <i> element\n",
    "#             print(\"Star Element Text:\", star_element.text)\n",
    "#             print(\"Star Color Code:\", star_color)\n",
    "\n",
    "#     # Print the total ratings\n",
    "#     print(\"Total Ratings for #F3C117 Stars:\", total_ratings)\n",
    "\n",
    "# else:\n",
    "#     print(\"Order Online link not found.\")\n",
    "\n",
    "# # Close the browser\n",
    "# driver.quit()\n"
   ]
  },
  {
   "cell_type": "code",
   "execution_count": 175,
   "metadata": {},
   "outputs": [
    {
     "name": "stdout",
     "output_type": "stream",
     "text": [
      "Fill value: #F3C117\n",
      "Title text: star-fill\n"
     ]
    },
    {
     "name": "stdout",
     "output_type": "stream",
     "text": [
      "Fill value: #F3C117\n",
      "Title text: star-fill\n",
      "Fill value: #F3C117\n",
      "Title text: star-fill\n",
      "Fill value: #F3C117\n",
      "Title text: star-fill\n",
      "48%\n",
      "#F3C117\n"
     ]
    }
   ],
   "source": [
    "from bs4 import BeautifulSoup\n",
    "rating = 0\n",
    "\n",
    "star_elements = driver.find_elements(By.XPATH, '//*[@id=\"root\"]/div/main/div/section[4]/section/section[2]/section[2]/div[2]/div[1]/div/div/div[2]/div/div/div[1]/div/i')\n",
    "try:\n",
    "    for star in range(len(star_elements)):\n",
    "        html_string = star_elements[star].get_attribute('innerHTML')\n",
    "        soup = BeautifulSoup(html_string, 'lxml')\n",
    "        fill_value = soup.svg['fill']\n",
    "        title_text = soup.title.text  \n",
    "         \n",
    "        print(\"Fill value:\", fill_value)\n",
    "        print(\"Title text:\", title_text) \n",
    "except:\n",
    "    soup = BeautifulSoup(html_string, 'html.parser')\n",
    "    linear_gradient = soup.find('lineargradient')\n",
    "    linear_gradient= soup.svg.lineargradient\n",
    "\n",
    "    if linear_gradient:\n",
    "        linear_gradient_id = linear_gradient['id']\n",
    "        linear_gradient_x1 = linear_gradient['x1']\n",
    "        linear_gradient_x2 = linear_gradient['x2']\n",
    "        \n",
    "        stops = linear_gradient.find_all('stop')\n",
    "        percentage = stops[1]['offset']\n",
    "        print(percentage)\n",
    "        print(stops[1]['stop-color'])\n",
    "\n"
   ]
  },
  {
   "cell_type": "code",
   "execution_count": 151,
   "metadata": {},
   "outputs": [
    {
     "name": "stdout",
     "output_type": "stream",
     "text": [
      "0.48\n"
     ]
    }
   ],
   "source": [
    "from bs4 import BeautifulSoup\n",
    "rating = 0\n",
    "\n",
    "star_elements = driver.find_elements(By.XPATH, '//*[@id=\"root\"]/div/main/div/section[4]/section/section[2]/section[2]/div[2]/div[1]/div/div/div[2]/div/div/div[1]/div/i')\n",
    "try:\n",
    "    for star in range(len(star_elements)):\n",
    "        html_string = star_elements[star].get_attribute('innerHTML')\n",
    "        soup = BeautifulSoup(html_string, 'lxml')\n",
    "        fill_value = soup.svg['fill']\n",
    "        title_text = soup.title.text  \n",
    "        if fill_value == \"#F3C117\" :\n",
    "            rating += 1\n",
    "        else:\n",
    "            rating += 0\n",
    "\n",
    "except:\n",
    "    soup = BeautifulSoup(html_string, 'html.parser')\n",
    "    linear_gradient = soup.find('lineargradient')\n",
    "    linear_gradient= soup.svg.lineargradient\n",
    "\n",
    "    if linear_gradient:\n",
    "        linear_gradient_id = linear_gradient['id']\n",
    "        linear_gradient_x1 = linear_gradient['x1']\n",
    "        linear_gradient_x2 = linear_gradient['x2']\n",
    "        \n",
    "        stops = linear_gradient.find_all('stop')\n",
    "          \n",
    "        stops = linear_gradient.find_all('stop')\n",
    "        percentage = stops[1]['offset']\n",
    "        decimal_rating = int(percentage.strip('%'))/100\n",
    "\n",
    "        # percentage = stops[1]['offset']\n",
    "        # print(percentage)\n",
    "        # print(stops[1]['stop-color'])\n",
    "\n",
    "    rating = decimal_rating\n",
    "\n",
    "\n",
    "\n",
    "print(rating)"
   ]
  },
  {
   "cell_type": "code",
   "execution_count": 96,
   "metadata": {},
   "outputs": [
    {
     "data": {
      "text/plain": [
       "0.48"
      ]
     },
     "execution_count": 96,
     "metadata": {},
     "output_type": "execute_result"
    }
   ],
   "source": [
    "int(percentage.strip('%'))/100"
   ]
  },
  {
   "cell_type": "code",
   "execution_count": 154,
   "metadata": {},
   "outputs": [
    {
     "name": "stdout",
     "output_type": "stream",
     "text": [
      "0.48\n"
     ]
    }
   ],
   "source": [
    "from bs4 import BeautifulSoup\n",
    "rating = 0\n",
    "star_elements = driver.find_elements(By.XPATH, '//*[@id=\"root\"]/div/main/div/section[4]/section/section[2]/section[2]/div[2]/div[1]/div/div/div[2]/div/div/div[1]/div/i')\n",
    "try:\n",
    "    for star in range(len(star_elements)):\n",
    "            html_string = star_elements[star].get_attribute('innerHTML')\n",
    "            soup = BeautifulSoup(html_string, 'lxml')\n",
    "            fill_value = soup.svg['fill']\n",
    "            title_text = soup.title.text\n",
    "            if fill_value == '#F3C117' and title_text == 'star-fill':\n",
    "                rating += 1\n",
    "except:\n",
    "        soup = BeautifulSoup(html_string, 'html.parser')\n",
    "        linear_gradient = soup.find('lineargradient')\n",
    "        linear_gradient= soup.svg.lineargradient\n",
    "\n",
    "        if linear_gradient:\n",
    "            linear_gradient_id = linear_gradient['id']\n",
    "            linear_gradient_x1 = linear_gradient['x1']\n",
    "            linear_gradient_x2 = linear_gradient['x2']\n",
    "            \n",
    "            stops = linear_gradient.find_all('stop')\n",
    "            percentage = stops[1]['offset']\n",
    "            decimal_rating = int(percentage.strip('%'))/100\n",
    "\n",
    "            rating = decimal_rating\n",
    "print(rating)\n",
    "        "
   ]
  },
  {
   "cell_type": "code",
   "execution_count": 181,
   "metadata": {},
   "outputs": [
    {
     "name": "stdout",
     "output_type": "stream",
     "text": [
      "Error: 'NoneType' object has no attribute 'text'\n",
      "0.48\n"
     ]
    }
   ],
   "source": [
    "from selenium import webdriver\n",
    "from selenium.webdriver.common.by import By\n",
    "from bs4 import BeautifulSoup\n",
    "\n",
    "rating_1 = 0\n",
    "star_elements = driver.find_elements(By.XPATH, '//*[@id=\"root\"]/div/main/div/section[4]/section/section[2]/section[2]/div[2]/div[1]/div/div/div[2]/div/div/div[1]/div/i')\n",
    "\n",
    "try:\n",
    "    for star in range(len(star_elements)):\n",
    "        html_string = star_elements[star].get_attribute('innerHTML')\n",
    "        soup = BeautifulSoup(html_string, 'lxml')\n",
    "        fill_value = soup.svg['fill']\n",
    "        title_text = soup.title.text\n",
    "        if fill_value == '#F3C117' and title_text == 'star-fill':\n",
    "            rating_1 += 1\n",
    "        else:\n",
    "            rating_1 +=0\n",
    "except Exception as e:\n",
    "    print(f\"Error: {e}\")\n",
    "\n",
    "    soup = BeautifulSoup(html_string, 'html.parser')\n",
    "    linear_gradient = soup.find('linearGradient')\n",
    "    linear_gradient= soup.svg.lineargradient\n",
    "    stops = linear_gradient.find_all('stop')\n",
    "    percentage = stops[1]['offset']\n",
    "    decimal_rating = int(percentage.strip('%')) / 100\n",
    "\n",
    "    rating_1 = decimal_rating\n",
    "\n",
    "print(rating_1)"
   ]
  },
  {
   "cell_type": "code",
   "execution_count": 182,
   "metadata": {},
   "outputs": [
    {
     "name": "stdout",
     "output_type": "stream",
     "text": [
      "Error: 'NoneType' object has no attribute 'text'\n",
      "4\n"
     ]
    }
   ],
   "source": [
    "from selenium import webdriver\n",
    "from selenium.webdriver.common.by import By\n",
    "from bs4 import BeautifulSoup\n",
    "\n",
    "rating = 0\n",
    "star_elements = driver.find_elements(By.XPATH, '//*[@id=\"root\"]/div/main/div/section[4]/section/section[2]/section[2]/div[2]/div[1]/div/div/div[2]/div/div/div[1]/div/i')\n",
    "\n",
    "try:\n",
    "    for star in range(len(star_elements)):\n",
    "        html_string = star_elements[star].get_attribute('innerHTML')\n",
    "        soup = BeautifulSoup(html_string, 'lxml')\n",
    "        fill_value = soup.svg['fill']\n",
    "        title_text = soup.title.text\n",
    "        if fill_value == '#F3C117' and title_text == 'star-fill':\n",
    "            rating += 1\n",
    "except Exception as e:\n",
    "    # Handle specific exceptions or log the error\n",
    "    print(f\"Error: {e}\")\n",
    "\n",
    "    soup = BeautifulSoup(html_string, 'html.parser')\n",
    "    linear_gradient = soup.find('linearGradient')\n",
    "    # linear_gradient= soup.svg.lineargradient\n",
    "    if linear_gradient:\n",
    "        linear_gradient_id = linear_gradient['id']\n",
    "        linear_gradient_x1 = linear_gradient['x1']\n",
    "        linear_gradient_x2 = linear_gradient['x2']\n",
    "\n",
    "        stops = linear_gradient.find_all('stop')\n",
    "        percentage = stops[1]['offset']\n",
    "        decimal_rating = int(percentage.strip('%')) / 100\n",
    "\n",
    "        rating = decimal_rating\n",
    "\n",
    "print(rating)\n"
   ]
  },
  {
   "cell_type": "code",
   "execution_count": 183,
   "metadata": {},
   "outputs": [
    {
     "data": {
      "text/plain": [
       "4.48"
      ]
     },
     "execution_count": 183,
     "metadata": {},
     "output_type": "execute_result"
    }
   ],
   "source": [
    "ratings = rating + rating_1\n",
    "ratings"
   ]
  },
  {
   "cell_type": "code",
   "execution_count": 47,
   "metadata": {},
   "outputs": [],
   "source": [
    "html_string = star_elements[0].get_attribute('innerHTML')\n"
   ]
  },
  {
   "cell_type": "code",
   "execution_count": 38,
   "metadata": {},
   "outputs": [
    {
     "data": {
      "text/plain": [
       "bs4.element.Tag"
      ]
     },
     "execution_count": 38,
     "metadata": {},
     "output_type": "execute_result"
    }
   ],
   "source": [
    "type(linear_gradient)"
   ]
  },
  {
   "cell_type": "code",
   "execution_count": 30,
   "metadata": {},
   "outputs": [
    {
     "data": {
      "text/plain": [
       "'48%'"
      ]
     },
     "execution_count": 30,
     "metadata": {},
     "output_type": "execute_result"
    }
   ],
   "source": [
    "stops[1]['offset']\n"
   ]
  },
  {
   "cell_type": "code",
   "execution_count": 49,
   "metadata": {},
   "outputs": [
    {
     "name": "stdout",
     "output_type": "stream",
     "text": [
      "Fill value: #F3C117\n",
      "Title text: star-fill\n"
     ]
    }
   ],
   "source": [
    "# from selenium import webdriver\n",
    "from bs4 import BeautifulSoup\n",
    " \n",
    "# Your HTML string\n",
    "html_string = star_elements[0].get_attribute('innerHTML')\n",
    "# Create a WebDriver instance (assuming you have set up your webdriver)\n",
    "# driver = webdriver.Chrome()\n",
    " \n",
    "# Use BeautifulSoup to parse the HTML string\n",
    "# soup = BeautifulSoup(html_string, 'html.parser')\n",
    "\n",
    "soup = BeautifulSoup(html_string, 'lxml')\n",
    " \n",
    "# Extract the values of the 'fill' attribute and the text content of the 'title' element\n",
    "fill_value = soup.svg['fill']\n",
    "title_text = soup.title.text\n",
    "\n",
    " \n",
    "# Print the extracted values\n",
    "print(\"Fill value:\", fill_value)\n",
    "print(\"Title text:\", title_text)"
   ]
  },
  {
   "cell_type": "code",
   "execution_count": 6,
   "metadata": {},
   "outputs": [
    {
     "ename": "TypeError",
     "evalue": "'NoneType' object is not subscriptable",
     "output_type": "error",
     "traceback": [
      "\u001b[1;31m---------------------------------------------------------------------------\u001b[0m",
      "\u001b[1;31mTypeError\u001b[0m                                 Traceback (most recent call last)",
      "Cell \u001b[1;32mIn[6], line 3\u001b[0m\n\u001b[0;32m      1\u001b[0m \u001b[38;5;66;03m# Extract linear gradient attributes\u001b[39;00m\n\u001b[0;32m      2\u001b[0m linear_gradient \u001b[38;5;241m=\u001b[39m soup\u001b[38;5;241m.\u001b[39mlinearGradient\n\u001b[1;32m----> 3\u001b[0m linear_gradient_id \u001b[38;5;241m=\u001b[39m \u001b[43mlinear_gradient\u001b[49m\u001b[43m[\u001b[49m\u001b[38;5;124;43m'\u001b[39;49m\u001b[38;5;124;43mid\u001b[39;49m\u001b[38;5;124;43m'\u001b[39;49m\u001b[43m]\u001b[49m\n\u001b[0;32m      4\u001b[0m linear_gradient_x1 \u001b[38;5;241m=\u001b[39m linear_gradient[\u001b[38;5;124m'\u001b[39m\u001b[38;5;124mx1\u001b[39m\u001b[38;5;124m'\u001b[39m]\n\u001b[0;32m      5\u001b[0m linear_gradient_x2 \u001b[38;5;241m=\u001b[39m linear_gradient[\u001b[38;5;124m'\u001b[39m\u001b[38;5;124mx2\u001b[39m\u001b[38;5;124m'\u001b[39m]\n",
      "\u001b[1;31mTypeError\u001b[0m: 'NoneType' object is not subscriptable"
     ]
    }
   ],
   "source": [
    "# Extract linear gradient attributes\n",
    "linear_gradient = soup.linearGradient\n",
    "linear_gradient_id = linear_gradient['id']\n",
    "linear_gradient_x1 = linear_gradient['x1']\n",
    "linear_gradient_x2 = linear_gradient['x2']\n",
    "linear_gradient_y1 = linear_gradient['y1']\n",
    "linear_gradient_y2 = linear_gradient['y2']"
   ]
  },
  {
   "cell_type": "code",
   "execution_count": 94,
   "metadata": {},
   "outputs": [
    {
     "ename": "AttributeError",
     "evalue": "'NoneType' object has no attribute 'find_element'",
     "output_type": "error",
     "traceback": [
      "\u001b[1;31m---------------------------------------------------------------------------\u001b[0m",
      "\u001b[1;31mAttributeError\u001b[0m                            Traceback (most recent call last)",
      "Cell \u001b[1;32mIn[94], line 4\u001b[0m\n\u001b[0;32m      1\u001b[0m linear_gradient \u001b[38;5;241m=\u001b[39m soup\u001b[38;5;241m.\u001b[39mfind(\u001b[38;5;124m'\u001b[39m\u001b[38;5;124mlinearGradient\u001b[39m\u001b[38;5;124m'\u001b[39m, {\u001b[38;5;124m'\u001b[39m\u001b[38;5;124mid\u001b[39m\u001b[38;5;124m'\u001b[39m: \u001b[38;5;124m'\u001b[39m\u001b[38;5;124mclrkbd75c00183j7869mi6gxv\u001b[39m\u001b[38;5;124m'\u001b[39m})\n\u001b[0;32m      3\u001b[0m \u001b[38;5;66;03m# Find all stop elements within linearGradient\u001b[39;00m\n\u001b[1;32m----> 4\u001b[0m stops \u001b[38;5;241m=\u001b[39m \u001b[43mlinear_gradient\u001b[49m\u001b[38;5;241;43m.\u001b[39;49m\u001b[43mfind_element\u001b[49m(\u001b[38;5;124m'\u001b[39m\u001b[38;5;124mstop\u001b[39m\u001b[38;5;124m'\u001b[39m)\n",
      "\u001b[1;31mAttributeError\u001b[0m: 'NoneType' object has no attribute 'find_element'"
     ]
    }
   ],
   "source": [
    "linear_gradient = soup.find('linearGradient', {'id': 'clrkbd75c00183j7869mi6gxv'})\n",
    "\n",
    "# Find all stop elements within linearGradient\n",
    "stops = linear_gradient.find_('stop')"
   ]
  },
  {
   "cell_type": "code",
   "execution_count": 88,
   "metadata": {},
   "outputs": [],
   "source": [
    "lineargradient = soup.linearGradient\n"
   ]
  },
  {
   "cell_type": "code",
   "execution_count": 89,
   "metadata": {},
   "outputs": [
    {
     "ename": "TypeError",
     "evalue": "'NoneType' object is not subscriptable",
     "output_type": "error",
     "traceback": [
      "\u001b[1;31m---------------------------------------------------------------------------\u001b[0m",
      "\u001b[1;31mTypeError\u001b[0m                                 Traceback (most recent call last)",
      "Cell \u001b[1;32mIn[89], line 1\u001b[0m\n\u001b[1;32m----> 1\u001b[0m \u001b[43mlineargradient\u001b[49m\u001b[43m[\u001b[49m\u001b[38;5;124;43m'\u001b[39;49m\u001b[38;5;124;43mid\u001b[39;49m\u001b[38;5;124;43m'\u001b[39;49m\u001b[43m]\u001b[49m\n",
      "\u001b[1;31mTypeError\u001b[0m: 'NoneType' object is not subscriptable"
     ]
    }
   ],
   "source": [
    "lineargradient['id']"
   ]
  },
  {
   "cell_type": "code",
   "execution_count": 53,
   "metadata": {},
   "outputs": [
    {
     "data": {
      "text/plain": [
       "str"
      ]
     },
     "execution_count": 53,
     "metadata": {},
     "output_type": "execute_result"
    }
   ],
   "source": [
    "type(star_elements[0].get_attribute('innerHTML'))"
   ]
  },
  {
   "cell_type": "code",
   "execution_count": 92,
   "metadata": {},
   "outputs": [
    {
     "data": {
      "text/plain": [
       "'<svg xmlns=\"http://www.w3.org/2000/svg\" fill=\"#F3C117\" width=\"14\" height=\"14\" viewBox=\"0 0 20 20\" aria-labelledby=\"icon-svg-title- icon-svg-desc-\" role=\"img\" class=\"sc-rbbb40-0 kyPUnV\"><title>star-fill</title><path d=\"M6.76 6.8l-6.38 0.96c-0.22 0.040-0.38 0.22-0.38 0.44 0 0.12 0.040 0.24 0.12 0.32v0l4.64 4.76-1.1 6.66c0 0.020 0 0.040 0 0.080 0 0.24 0.2 0.44 0.44 0.44 0.1 0 0.16-0.020 0.24-0.060v0l5.7-3.12 5.68 3.12c0.060 0.040 0.14 0.060 0.22 0.060 0.24 0 0.44-0.2 0.44-0.44 0-0.040 0-0.060 0-0.080v0l-1.1-6.66 4.64-4.76c0.080-0.080 0.12-0.2 0.12-0.32 0-0.22-0.16-0.4-0.36-0.44h-0.020l-6.38-0.96-2.96-6.18c-0.060-0.12-0.18-0.2-0.32-0.2s-0.26 0.080-0.32 0.2v0z\"></path></svg>'"
      ]
     },
     "execution_count": 92,
     "metadata": {},
     "output_type": "execute_result"
    }
   ],
   "source": [
    "star_elements[0].get_attribute('innerHTML')\n"
   ]
  },
  {
   "cell_type": "code",
   "execution_count": 58,
   "metadata": {},
   "outputs": [
    {
     "ename": "NoSuchElementException",
     "evalue": "Message: no such element: Unable to locate element: {\"method\":\"xpath\",\"selector\":\"//div[@aria-labelledby='icon-svg-title- icon-svg-desc-']\"}\n  (Session info: MicrosoftEdge=120.0.2210.133); For documentation on this error, please visit: https://www.selenium.dev/documentation/webdriver/troubleshooting/errors#no-such-element-exception\nStacktrace:\n\tGetHandleVerifier [0x00007FF6645B0352+58194]\n\tMicrosoft::Applications::Events::ILogConfiguration::operator* [0x00007FF66453ECB2+216546]\n\t(No symbol) [0x00007FF664359E1B]\n\t(No symbol) [0x00007FF6643A9C6F]\n\t(No symbol) [0x00007FF6643A9DA5]\n\t(No symbol) [0x00007FF66439D43C]\n\t(No symbol) [0x00007FF6643CC11F]\n\t(No symbol) [0x00007FF66439D3E1]\n\t(No symbol) [0x00007FF66439D28D]\n\t(No symbol) [0x00007FF6643CC670]\n\t(No symbol) [0x00007FF66439D3E1]\n\t(No symbol) [0x00007FF6643E8A7E]\n\t(No symbol) [0x00007FF6643CBD43]\n\t(No symbol) [0x00007FF66439C162]\n\t(No symbol) [0x00007FF66439B5BD]\n\t(No symbol) [0x00007FF66439C994]\n\tMicrosoft::Applications::Events::EventProperty::to_string [0x00007FF664766CFA+1051354]\n\t(No symbol) [0x00007FF66441F596]\n\tMicrosoft::Applications::Events::EventProperty::clear [0x00007FF6644B6205+34245]\n\tMicrosoft::Applications::Events::EventProperty::clear [0x00007FF6644AE6AD+2669]\n\tMicrosoft::Applications::Events::EventProperty::to_string [0x00007FF6647659F3+1046483]\n\tMicrosoft::Applications::Events::ILogConfiguration::operator* [0x00007FF664548998+256712]\n\tMicrosoft::Applications::Events::ILogConfiguration::operator* [0x00007FF664544124+238164]\n\tMicrosoft::Applications::Events::ILogConfiguration::operator* [0x00007FF664544252+238466]\n\tMicrosoft::Applications::Events::ILogConfiguration::operator* [0x00007FF664538FF1+192801]\n\tBaseThreadInitThunk [0x00007FF827AB257D+29]\n\tRtlUserThreadStart [0x00007FF8291AAA58+40]\n",
     "output_type": "error",
     "traceback": [
      "\u001b[1;31m---------------------------------------------------------------------------\u001b[0m",
      "\u001b[1;31mNoSuchElementException\u001b[0m                    Traceback (most recent call last)",
      "Cell \u001b[1;32mIn[58], line 1\u001b[0m\n\u001b[1;32m----> 1\u001b[0m \u001b[43mstar_elements\u001b[49m\u001b[43m[\u001b[49m\u001b[38;5;241;43m0\u001b[39;49m\u001b[43m]\u001b[49m\u001b[38;5;241;43m.\u001b[39;49m\u001b[43mfind_element\u001b[49m\u001b[43m(\u001b[49m\u001b[43mBy\u001b[49m\u001b[38;5;241;43m.\u001b[39;49m\u001b[43mXPATH\u001b[49m\u001b[43m,\u001b[49m\u001b[38;5;124;43m\"\u001b[39;49m\u001b[38;5;124;43m//div[@aria-labelledby=\u001b[39;49m\u001b[38;5;124;43m'\u001b[39;49m\u001b[38;5;124;43micon-svg-title- icon-svg-desc-\u001b[39;49m\u001b[38;5;124;43m'\u001b[39;49m\u001b[38;5;124;43m]\u001b[39;49m\u001b[38;5;124;43m\"\u001b[39;49m\u001b[43m)\u001b[49m\n",
      "File \u001b[1;32mc:\\Users\\SRIJAN\\anaconda3\\envs\\my_place\\Lib\\site-packages\\selenium\\webdriver\\remote\\webelement.py:417\u001b[0m, in \u001b[0;36mWebElement.find_element\u001b[1;34m(self, by, value)\u001b[0m\n\u001b[0;32m    414\u001b[0m     by \u001b[38;5;241m=\u001b[39m By\u001b[38;5;241m.\u001b[39mCSS_SELECTOR\n\u001b[0;32m    415\u001b[0m     value \u001b[38;5;241m=\u001b[39m \u001b[38;5;124mf\u001b[39m\u001b[38;5;124m'\u001b[39m\u001b[38;5;124m[name=\u001b[39m\u001b[38;5;124m\"\u001b[39m\u001b[38;5;132;01m{\u001b[39;00mvalue\u001b[38;5;132;01m}\u001b[39;00m\u001b[38;5;124m\"\u001b[39m\u001b[38;5;124m]\u001b[39m\u001b[38;5;124m'\u001b[39m\n\u001b[1;32m--> 417\u001b[0m \u001b[38;5;28;01mreturn\u001b[39;00m \u001b[38;5;28;43mself\u001b[39;49m\u001b[38;5;241;43m.\u001b[39;49m\u001b[43m_execute\u001b[49m\u001b[43m(\u001b[49m\u001b[43mCommand\u001b[49m\u001b[38;5;241;43m.\u001b[39;49m\u001b[43mFIND_CHILD_ELEMENT\u001b[49m\u001b[43m,\u001b[49m\u001b[43m \u001b[49m\u001b[43m{\u001b[49m\u001b[38;5;124;43m\"\u001b[39;49m\u001b[38;5;124;43musing\u001b[39;49m\u001b[38;5;124;43m\"\u001b[39;49m\u001b[43m:\u001b[49m\u001b[43m \u001b[49m\u001b[43mby\u001b[49m\u001b[43m,\u001b[49m\u001b[43m \u001b[49m\u001b[38;5;124;43m\"\u001b[39;49m\u001b[38;5;124;43mvalue\u001b[39;49m\u001b[38;5;124;43m\"\u001b[39;49m\u001b[43m:\u001b[49m\u001b[43m \u001b[49m\u001b[43mvalue\u001b[49m\u001b[43m}\u001b[49m\u001b[43m)\u001b[49m[\u001b[38;5;124m\"\u001b[39m\u001b[38;5;124mvalue\u001b[39m\u001b[38;5;124m\"\u001b[39m]\n",
      "File \u001b[1;32mc:\\Users\\SRIJAN\\anaconda3\\envs\\my_place\\Lib\\site-packages\\selenium\\webdriver\\remote\\webelement.py:395\u001b[0m, in \u001b[0;36mWebElement._execute\u001b[1;34m(self, command, params)\u001b[0m\n\u001b[0;32m    393\u001b[0m     params \u001b[38;5;241m=\u001b[39m {}\n\u001b[0;32m    394\u001b[0m params[\u001b[38;5;124m\"\u001b[39m\u001b[38;5;124mid\u001b[39m\u001b[38;5;124m\"\u001b[39m] \u001b[38;5;241m=\u001b[39m \u001b[38;5;28mself\u001b[39m\u001b[38;5;241m.\u001b[39m_id\n\u001b[1;32m--> 395\u001b[0m \u001b[38;5;28;01mreturn\u001b[39;00m \u001b[38;5;28;43mself\u001b[39;49m\u001b[38;5;241;43m.\u001b[39;49m\u001b[43m_parent\u001b[49m\u001b[38;5;241;43m.\u001b[39;49m\u001b[43mexecute\u001b[49m\u001b[43m(\u001b[49m\u001b[43mcommand\u001b[49m\u001b[43m,\u001b[49m\u001b[43m \u001b[49m\u001b[43mparams\u001b[49m\u001b[43m)\u001b[49m\n",
      "File \u001b[1;32mc:\\Users\\SRIJAN\\anaconda3\\envs\\my_place\\Lib\\site-packages\\selenium\\webdriver\\remote\\webdriver.py:348\u001b[0m, in \u001b[0;36mWebDriver.execute\u001b[1;34m(self, driver_command, params)\u001b[0m\n\u001b[0;32m    346\u001b[0m response \u001b[38;5;241m=\u001b[39m \u001b[38;5;28mself\u001b[39m\u001b[38;5;241m.\u001b[39mcommand_executor\u001b[38;5;241m.\u001b[39mexecute(driver_command, params)\n\u001b[0;32m    347\u001b[0m \u001b[38;5;28;01mif\u001b[39;00m response:\n\u001b[1;32m--> 348\u001b[0m     \u001b[38;5;28;43mself\u001b[39;49m\u001b[38;5;241;43m.\u001b[39;49m\u001b[43merror_handler\u001b[49m\u001b[38;5;241;43m.\u001b[39;49m\u001b[43mcheck_response\u001b[49m\u001b[43m(\u001b[49m\u001b[43mresponse\u001b[49m\u001b[43m)\u001b[49m\n\u001b[0;32m    349\u001b[0m     response[\u001b[38;5;124m\"\u001b[39m\u001b[38;5;124mvalue\u001b[39m\u001b[38;5;124m\"\u001b[39m] \u001b[38;5;241m=\u001b[39m \u001b[38;5;28mself\u001b[39m\u001b[38;5;241m.\u001b[39m_unwrap_value(response\u001b[38;5;241m.\u001b[39mget(\u001b[38;5;124m\"\u001b[39m\u001b[38;5;124mvalue\u001b[39m\u001b[38;5;124m\"\u001b[39m, \u001b[38;5;28;01mNone\u001b[39;00m))\n\u001b[0;32m    350\u001b[0m     \u001b[38;5;28;01mreturn\u001b[39;00m response\n",
      "File \u001b[1;32mc:\\Users\\SRIJAN\\anaconda3\\envs\\my_place\\Lib\\site-packages\\selenium\\webdriver\\remote\\errorhandler.py:229\u001b[0m, in \u001b[0;36mErrorHandler.check_response\u001b[1;34m(self, response)\u001b[0m\n\u001b[0;32m    227\u001b[0m         alert_text \u001b[38;5;241m=\u001b[39m value[\u001b[38;5;124m\"\u001b[39m\u001b[38;5;124malert\u001b[39m\u001b[38;5;124m\"\u001b[39m]\u001b[38;5;241m.\u001b[39mget(\u001b[38;5;124m\"\u001b[39m\u001b[38;5;124mtext\u001b[39m\u001b[38;5;124m\"\u001b[39m)\n\u001b[0;32m    228\u001b[0m     \u001b[38;5;28;01mraise\u001b[39;00m exception_class(message, screen, stacktrace, alert_text)  \u001b[38;5;66;03m# type: ignore[call-arg]  # mypy is not smart enough here\u001b[39;00m\n\u001b[1;32m--> 229\u001b[0m \u001b[38;5;28;01mraise\u001b[39;00m exception_class(message, screen, stacktrace)\n",
      "\u001b[1;31mNoSuchElementException\u001b[0m: Message: no such element: Unable to locate element: {\"method\":\"xpath\",\"selector\":\"//div[@aria-labelledby='icon-svg-title- icon-svg-desc-']\"}\n  (Session info: MicrosoftEdge=120.0.2210.133); For documentation on this error, please visit: https://www.selenium.dev/documentation/webdriver/troubleshooting/errors#no-such-element-exception\nStacktrace:\n\tGetHandleVerifier [0x00007FF6645B0352+58194]\n\tMicrosoft::Applications::Events::ILogConfiguration::operator* [0x00007FF66453ECB2+216546]\n\t(No symbol) [0x00007FF664359E1B]\n\t(No symbol) [0x00007FF6643A9C6F]\n\t(No symbol) [0x00007FF6643A9DA5]\n\t(No symbol) [0x00007FF66439D43C]\n\t(No symbol) [0x00007FF6643CC11F]\n\t(No symbol) [0x00007FF66439D3E1]\n\t(No symbol) [0x00007FF66439D28D]\n\t(No symbol) [0x00007FF6643CC670]\n\t(No symbol) [0x00007FF66439D3E1]\n\t(No symbol) [0x00007FF6643E8A7E]\n\t(No symbol) [0x00007FF6643CBD43]\n\t(No symbol) [0x00007FF66439C162]\n\t(No symbol) [0x00007FF66439B5BD]\n\t(No symbol) [0x00007FF66439C994]\n\tMicrosoft::Applications::Events::EventProperty::to_string [0x00007FF664766CFA+1051354]\n\t(No symbol) [0x00007FF66441F596]\n\tMicrosoft::Applications::Events::EventProperty::clear [0x00007FF6644B6205+34245]\n\tMicrosoft::Applications::Events::EventProperty::clear [0x00007FF6644AE6AD+2669]\n\tMicrosoft::Applications::Events::EventProperty::to_string [0x00007FF6647659F3+1046483]\n\tMicrosoft::Applications::Events::ILogConfiguration::operator* [0x00007FF664548998+256712]\n\tMicrosoft::Applications::Events::ILogConfiguration::operator* [0x00007FF664544124+238164]\n\tMicrosoft::Applications::Events::ILogConfiguration::operator* [0x00007FF664544252+238466]\n\tMicrosoft::Applications::Events::ILogConfiguration::operator* [0x00007FF664538FF1+192801]\n\tBaseThreadInitThunk [0x00007FF827AB257D+29]\n\tRtlUserThreadStart [0x00007FF8291AAA58+40]\n"
     ]
    }
   ],
   "source": [
    "star_elements[0].find_element(By.XPATH,\"//div[@aria-labelledby='icon-svg-title- icon-svg-desc-']\")"
   ]
  },
  {
   "cell_type": "code",
   "execution_count": null,
   "metadata": {},
   "outputs": [],
   "source": [
    "def get_score_from_star_html(html_string):\n",
    "\ttry:\n",
    "\t\tfetch title\n",
    "\t\tif title star-filled:\n",
    "\t\t\tif colour= 'orange':\n",
    "\t\t\t\tscore=1\n",
    "\t\t\telif colour= 'white':\n",
    "\t\t\t\tscore =0\n",
    "\texcept title not found:\n",
    "\t\tfind out linear gradient\n",
    "\t\tscore= second stop fraction\n",
    "\treturn score"
   ]
  },
  {
   "cell_type": "code",
   "execution_count": 115,
   "metadata": {},
   "outputs": [],
   "source": [
    "star_elements = driver.find_elements(By.XPATH, '//*[@id=\"root\"]/div/main/div/section[4]/section/section[2]/section[2]/div[2]/div[1]/div/div/div[2]/div/div/div[1]/div/i')\n",
    "\n",
    "html_string = star_elements[4].get_attribute('innerHTML')\n"
   ]
  },
  {
   "cell_type": "code",
   "execution_count": 116,
   "metadata": {},
   "outputs": [
    {
     "name": "stdout",
     "output_type": "stream",
     "text": [
      "Fill value: #F3C117\n",
      "Title text: star-fill\n"
     ]
    }
   ],
   "source": [
    "# from selenium import webdriver\n",
    "from bs4 import BeautifulSoup\n",
    " \n",
    "# Your HTML string\n",
    "html_string = star_elements[0].get_attribute('innerHTML')\n",
    "# Create a WebDriver instance (assuming you have set up your webdriver)\n",
    "# driver = webdriver.Chrome()\n",
    " \n",
    "# Use BeautifulSoup to parse the HTML string\n",
    "# soup = BeautifulSoup(html_string, 'html.parser')\n",
    "\n",
    "soup = BeautifulSoup(html_string, 'lxml')\n",
    " \n",
    "# Extract the values of the 'fill' attribute and the text content of the 'title' element\n",
    "fill_value = soup.svg['fill']\n",
    "title_text = soup.title.text\n",
    "\n",
    " \n",
    "# Print the extracted values\n",
    "print(\"Fill value:\", fill_value)\n",
    "print(\"Title text:\", title_text)"
   ]
  },
  {
   "cell_type": "code",
   "execution_count": null,
   "metadata": {},
   "outputs": [],
   "source": []
  },
  {
   "cell_type": "code",
   "execution_count": null,
   "metadata": {},
   "outputs": [],
   "source": []
  },
  {
   "cell_type": "code",
   "execution_count": null,
   "metadata": {},
   "outputs": [],
   "source": []
  },
  {
   "cell_type": "code",
   "execution_count": null,
   "metadata": {},
   "outputs": [],
   "source": []
  },
  {
   "cell_type": "code",
   "execution_count": null,
   "metadata": {},
   "outputs": [],
   "source": []
  },
  {
   "cell_type": "code",
   "execution_count": null,
   "metadata": {},
   "outputs": [],
   "source": []
  },
  {
   "cell_type": "code",
   "execution_count": 16,
   "metadata": {},
   "outputs": [
    {
     "name": "stdout",
     "output_type": "stream",
     "text": [
      "Restaurant Name: The Nawaabs\n",
      "4.3\n",
      "star-fill\n",
      "Mughlai, North Indian, Biryani, Kebab, Beverages\n",
      "₹1,100 for two\n",
      "Tajganj, Agra\n",
      "2.7 km\n",
      "Restaurant URL: https://www.zomato.com/agra/the-nawaabs-tajganj/info\n",
      "Order Online Link: ['https://www.zomato.com/agra/the-nawaabs-tajganj/order']\n",
      "[<selenium.webdriver.remote.webelement.WebElement (session=\"871b8168bbc2a352e261238de96a5f65\", element=\"C83B574A5F5162664F52EBE874487597_element_4121\")>]\n",
      "Veg Biryani\n",
      "37 votes\n",
      "₹269\n",
      "star color: #F3C117\n",
      "star fill None\n",
      "Star Element Text: \n",
      "Star Color Code: #F3C117\n",
      "star color: #F3C117\n",
      "star fill None\n",
      "Star Element Text: \n",
      "Star Color Code: #F3C117\n",
      "star color: #F3C117\n",
      "star fill None\n",
      "Star Element Text: \n",
      "Star Color Code: #F3C117\n",
      "star color: #F3C117\n",
      "star fill None\n",
      "Star Element Text: \n",
      "Star Color Code: #F3C117\n",
      "star color: #F3C117\n",
      "star fill None\n",
      "Star Element Text: \n",
      "Star Color Code: #F3C117\n",
      "Total Ratings for #F3C117 Stars: 5\n"
     ]
    }
   ],
   "source": [
    "from selenium import webdriver\n",
    "from selenium.webdriver.common.by import By\n",
    "\n",
    "# Launch the Edge browser\n",
    "driver = webdriver.Edge()\n",
    "\n",
    "# Open the local HTML file\n",
    "driver.get(r\"C:\\Users\\SRIJAN\\OneDrive - S. Jaykishan\\Desktop\\Project Data\\Trending dining restaurants in Agra - Zomato.html\")\n",
    "\n",
    "# Find the element and extract information\n",
    "rest = driver.find_element(By.XPATH, '//*[@id=\"root\"]/div/div[10]/div/div[1]/div/div/a[2]')  \n",
    "restaurant_name = rest.text\n",
    "restaurant_url = rest.get_attribute('href')\n",
    "\n",
    "print(\"Restaurant Name:\", restaurant_name)\n",
    "print(\"Restaurant URL:\", restaurant_url)\n",
    "\n",
    "# Use the URL obtained earlier\n",
    "driver.get(restaurant_url)\n",
    "\n",
    "# Find all 'a' tags within the specified class\n",
    "order_online_links = driver.find_elements(By.CSS_SELECTOR, '.sc-1y3q50z-5.jPTnRn a') \n",
    "\n",
    "# Extract and print the href values for 'Order Online' links\n",
    "order_online_link = [link.get_attribute('href') for link in order_online_links if 'Order Online' in link.text]\n",
    "print(\"Order Online Link:\", order_online_link)\n",
    "\n",
    "# Check if there is an 'Order Online' link, then proceed\n",
    "if order_online_link:\n",
    "    # Navigate to the 'Order Online' link\n",
    "    driver.get(order_online_link[0])\n",
    "\n",
    "    # Wait for the data to load, you can adjust the wait time as needed\n",
    "    driver.implicitly_wait(10)\n",
    "    food_items = driver.find_elements(By.XPATH, '//*[@id=\"root\"]/div/main/div/section[4]/section/section[2]/section[2]/div[2]/div[1]/div/div/div[2]/div/div')\n",
    "    print(food_items)\n",
    "    for i in food_items:\n",
    "        print(i.text)\n",
    "\n",
    "    # Find all <i> tags within the specified XPath\n",
    "    star_elements = driver.find_elements(By.XPATH, '//*[@id=\"root\"]/div/main/div/section[4]/section/section[2]/section[2]/div[2]/div[1]/div/div/div[2]/div/div/div[1]/div/i')\n",
    "    # Initialize a variable to store the total ratings\n",
    "    total_ratings = 0\n",
    "\n",
    "\n",
    "    # Iterate through each <i> element and extract the color and ratings\n",
    "    for star_element in star_elements:\n",
    "        # Extract the color attribute\n",
    "        star_color = star_element.get_attribute('color')\n",
    "        print(\"star color:\",star_color)\n",
    "        star_color_fill = star_element.get_attribute('fill')\n",
    "        print(\"star fill\",star_color_fill)\n",
    "\n",
    "\n",
    "    \n",
    "        # Check if the color is yellow (#F3C117)\n",
    "        if star_color.lower() == \"#f3c117\":\n",
    "            # Add the ratings to the total\n",
    "            total_ratings += 1\n",
    "\n",
    "            # Print the text content of the <i> element\n",
    "            print(\"Star Element Text:\", star_element.text)\n",
    "            print(\"Star Color Code:\", star_color)\n",
    "\n",
    "    # Print the total ratings\n",
    "    print(\"Total Ratings for #F3C117 Stars:\", total_ratings)\n",
    "\n",
    "else:\n",
    "    print(\"Order Online link not found.\")\n",
    "\n",
    "# Close the browser\n",
    "driver.quit()\n"
   ]
  },
  {
   "cell_type": "code",
   "execution_count": 18,
   "metadata": {},
   "outputs": [
    {
     "name": "stdout",
     "output_type": "stream",
     "text": [
      "Restaurant Name: The Nawaabs\n",
      "4.3\n",
      "star-fill\n",
      "Mughlai, North Indian, Biryani, Kebab, Beverages\n",
      "₹1,100 for two\n",
      "Tajganj, Agra\n",
      "2.7 km\n",
      "Restaurant URL: https://www.zomato.com/agra/the-nawaabs-tajganj/info\n",
      "Order Online Link: ['https://www.zomato.com/agra/the-nawaabs-tajganj/order']\n",
      "[<selenium.webdriver.remote.webelement.WebElement (session=\"bcfdbe998ab3d7090fdbb49549bda3b0\", element=\"71AD165969EBC9A7D9F0A8A69A42EA1D_element_4121\")>]\n",
      "Veg Biryani\n",
      "37 votes\n",
      "₹269\n",
      "star color: #F3C117\n",
      "star fill \n",
      "Star Element Text: \n",
      "Star Color Code: #F3C117\n",
      "star color: #F3C117\n",
      "star fill \n",
      "Star Element Text: \n",
      "Star Color Code: #F3C117\n",
      "star color: #F3C117\n",
      "star fill \n",
      "Star Element Text: \n",
      "Star Color Code: #F3C117\n",
      "star color: #F3C117\n",
      "star fill \n",
      "Star Element Text: \n",
      "Star Color Code: #F3C117\n",
      "star color: #F3C117\n",
      "star fill \n",
      "Star Element Text: \n",
      "Star Color Code: #F3C117\n",
      "Total Ratings for #F3C117 Stars: 5\n"
     ]
    }
   ],
   "source": [
    "from selenium import webdriver\n",
    "from selenium.webdriver.common.by import By\n",
    "from selenium.webdriver.support.ui import WebDriverWait\n",
    "from selenium.webdriver.support import expected_conditions as EC\n",
    "\n",
    "# Launch the Edge browser\n",
    "driver = webdriver.Edge()\n",
    "\n",
    "# Open the local HTML file\n",
    "driver.get(r\"C:\\Users\\SRIJAN\\OneDrive - S. Jaykishan\\Desktop\\Project Data\\Trending dining restaurants in Agra - Zomato.html\")\n",
    "\n",
    "# Find the element and extract information\n",
    "rest = driver.find_element(By.XPATH, '//*[@id=\"root\"]/div/div[10]/div/div[1]/div/div/a[2]')  \n",
    "restaurant_name = rest.text\n",
    "restaurant_url = rest.get_attribute('href')\n",
    "\n",
    "print(\"Restaurant Name:\", restaurant_name)\n",
    "print(\"Restaurant URL:\", restaurant_url)\n",
    "\n",
    "# Use the URL obtained earlier\n",
    "driver.get(restaurant_url)\n",
    "\n",
    "# Find all 'a' tags within the specified class\n",
    "order_online_links = driver.find_elements(By.CSS_SELECTOR, '.sc-1y3q50z-5.jPTnRn a') \n",
    "\n",
    "# Extract and print the href values for 'Order Online' links\n",
    "order_online_link = [link.get_attribute('href') for link in order_online_links if 'Order Online' in link.text]\n",
    "print(\"Order Online Link:\", order_online_link)\n",
    "\n",
    "# Check if there is an 'Order Online' link, then proceed\n",
    "if order_online_link:\n",
    "    # Navigate to the 'Order Online' link\n",
    "    driver.get(order_online_link[0])\n",
    "\n",
    "    # Wait for the data to load using explicit wait\n",
    "    wait = WebDriverWait(driver, 10)\n",
    "    food_items = wait.until(EC.visibility_of_all_elements_located((By.XPATH, '//*[@id=\"root\"]/div/main/div/section[4]/section/section[2]/section[2]/div[2]/div[1]/div/div/div[2]/div/div')))\n",
    "    \n",
    "    print(food_items)\n",
    "    for i in food_items:\n",
    "        print(i.text)\n",
    "\n",
    "    # Find all <i> tags within the specified XPath\n",
    "    star_elements = driver.find_elements(By.XPATH, '//*[@id=\"root\"]/div/main/div/section[4]/section/section[2]/section[2]/div[2]/div[1]/div/div/div[2]/div/div/div[1]/div/i')\n",
    "    \n",
    "    # Initialize a variable to store the total ratings\n",
    "    total_ratings = 0\n",
    "\n",
    "    # Iterate through each <i> element and extract the color and ratings\n",
    "    for star_element in star_elements:\n",
    "        # Extract the color attribute\n",
    "        star_color = star_element.get_attribute('color')\n",
    "        print(\"star color:\",star_color)\n",
    "        star_color_fill = star_element.get_attribute('title')\n",
    "        print(\"star fill\",star_color_fill)\n",
    "\n",
    "        # Check if the color is yellow (#F3C117)\n",
    "        if star_color and star_color.lower() == \"#f3c117\":\n",
    "            # Add the ratings to the total\n",
    "            total_ratings += 1\n",
    "\n",
    "            # Print the text content of the <i> element\n",
    "            print(\"Star Element Text:\", star_element.text)\n",
    "            print(\"Star Color Code:\", star_color)\n",
    "\n",
    "    # Print the total ratings\n",
    "    print(\"Total Ratings for #F3C117 Stars:\", total_ratings)\n",
    "\n",
    "else:\n",
    "    print(\"Order Online link not found.\")\n",
    "\n",
    "# Close the browser\n",
    "driver.quit()\n"
   ]
  },
  {
   "cell_type": "code",
   "execution_count": null,
   "metadata": {},
   "outputs": [],
   "source": [
    "percentage_string = '48%'\n",
    "\n",
    "percentage_integer = int(percentage_string.rstrip('%'))\n",
    "\n",
    "percentage_decimal = percentage_integer / 100.0\n",
    "\n",
    "print(\"Original String:\", percentage_string)\n",
    "print(\"Integer Value:\", percentage_integer)\n",
    "print(\"Decimal Value:\", percentage_decimal)\n"
   ]
  },
  {
   "cell_type": "code",
   "execution_count": 10,
   "metadata": {},
   "outputs": [
    {
     "name": "stdout",
     "output_type": "stream",
     "text": [
      "Restaurant Name: Bistro 57\n",
      "3.9\n",
      "star-fill\n",
      "Cafe, Pasta, Pizza, Burger, Coffee, Fast Food\n",
      "₹600 for two\n",
      "Civil Lines, Agra\n",
      "3.3 km\n",
      "Restaurant URL: https://www.zomato.com/agra/bistro-57-1-civil-lines/info\n",
      "Order Online Link: ['https://www.zomato.com/agra/bistro-57-1-civil-lines/order']\n",
      "Star Element Text: \n",
      "Star Color Code: #F3C117\n",
      "Star Element Text: \n",
      "Star Color Code: #F3C117\n",
      "Star Element Text: \n",
      "Star Color Code: #F3C117\n",
      "Star Element Text: \n",
      "Star Color Code: #F3C117\n",
      "Total Ratings for #F3C117 Stars: 4\n"
     ]
    }
   ],
   "source": [
    "from selenium import webdriver\n",
    "from selenium.webdriver.common.by import By\n",
    "\n",
    "# Launch the Edge browser\n",
    "driver = webdriver.Edge()\n",
    "\n",
    "# Open the local HTML file\n",
    "driver.get(r\"C:\\Users\\SRIJAN\\OneDrive - S. Jaykishan\\Desktop\\Project Data\\Trending dining restaurants in Agra - Zomato.html\")\n",
    "\n",
    "# Find the element and extract information\n",
    "rest = driver.find_element(By.XPATH, '//*[@id=\"root\"]/div/div[10]/div/div[2]/div/div/a[2]')\n",
    "restaurant_name = rest.text\n",
    "restaurant_url = rest.get_attribute('href')\n",
    "\n",
    "print(\"Restaurant Name:\", restaurant_name)\n",
    "print(\"Restaurant URL:\", restaurant_url)\n",
    "\n",
    "# Use the URL obtained earlier\n",
    "driver.get(restaurant_url)\n",
    "\n",
    "# Find all 'a' tags within the specified class\n",
    "order_online_links = driver.find_elements(By.CSS_SELECTOR, '.sc-1y3q50z-5.jPTnRn a')\n",
    "\n",
    "# Extract and print the href values for 'Order Online' links\n",
    "order_online_link = [link.get_attribute('href') for link in order_online_links if 'Order Online' in link.text]\n",
    "print(\"Order Online Link:\", order_online_link)\n",
    "\n",
    "# Check if there is an 'Order Online' link, then proceed\n",
    "if order_online_link:\n",
    "    # Navigate to the 'Order Online' link\n",
    "    driver.get(order_online_link[0])\n",
    "\n",
    "    # Wait for the data to load, you can adjust the wait time as needed\n",
    "    driver.implicitly_wait(10)\n",
    "\n",
    "    # Find all <i> tags within the specified XPath\n",
    "    star_elements = driver.find_elements(By.XPATH, '//*[@id=\"root\"]/div/main/div/section[4]/section/section[2]/section[2]/div[2]/div[1]/div/div/div[2]/div/div/div[2]/div/i')\n",
    "\n",
    "    # Initialize a variable to store the total ratings\n",
    "    total_ratings = 0\n",
    "\n",
    "    # Iterate through each <i> element and extract the color and ratings\n",
    "    for star_element in star_elements:\n",
    "        # Extract the color attribute\n",
    "        star_color = star_element.get_attribute('color')\n",
    "        if not star_color:\n",
    "            # If 'color' attribute is not found, try extracting from 'style'\n",
    "            star_color = star_element.get_attribute('style').split(';')[1].split(':')[1].strip()\n",
    "\n",
    "        # Check if the color is yellow (#F3C117)\n",
    "        if star_color.lower() == \"#f3c117\":\n",
    "            # Add the ratings to the total\n",
    "            total_ratings += 1\n",
    "\n",
    "            # Print the text content of the <i> element\n",
    "            print(\"Star Element Text:\", star_element.text)\n",
    "            print(\"Star Color Code:\", star_color)\n",
    "\n",
    "    # Print the total ratings\n",
    "    print(\"Total Ratings for #F3C117 Stars:\", total_ratings)\n",
    "\n",
    "else:\n",
    "    print(\"Order Online link not found.\")\n",
    "\n",
    "# Close the browser\n",
    "driver.quit()\n"
   ]
  },
  {
   "cell_type": "code",
   "execution_count": 3,
   "metadata": {},
   "outputs": [
    {
     "name": "stderr",
     "output_type": "stream",
     "text": [
      "C:\\Users\\SRIJAN\\AppData\\Local\\Temp\\ipykernel_17052\\2645404657.py:1: DeprecationWarning: \n",
      "Pyarrow will become a required dependency of pandas in the next major release of pandas (pandas 3.0),\n",
      "(to allow more performant data types, such as the Arrow string type, and better interoperability with other libraries)\n",
      "but was not found to be installed on your system.\n",
      "If this would cause problems for you,\n",
      "please provide us feedback at https://github.com/pandas-dev/pandas/issues/54466\n",
      "        \n",
      "  import pandas as pd\n"
     ]
    },
    {
     "name": "stdout",
     "output_type": "stream",
     "text": [
      "https://www.zomato.com/ajmer\n",
      "Mango Masala Restaurant\n",
      "Order Online Link: ['https://www.zomato.com/ajmer/mango-masala-restaurant-india-motor/order']\n",
      "[<selenium.webdriver.remote.webelement.WebElement (session=\"686fcdb9f81a6f2292e8d1e10dc058de\", element=\"F08A3882C48C9DFBC0C5960F8B56253D_element_6633\")>]\n",
      "Bhel Puri\n",
      "₹249\n",
      "Rate 0\n"
     ]
    },
    {
     "ename": "NoSuchWindowException",
     "evalue": "Message: no such window: target window already closed\nfrom unknown error: web view not found\n  (Session info: MicrosoftEdge=121.0.2277.83)\nStacktrace:\n\tGetHandleVerifier [0x00007FF6BE78AD02+60770]\n\tMicrosoft::Applications::Events::ILogConfiguration::operator* [0x00007FF6BE7184B2+228274]\n\t(No symbol) [0x00007FF6BE52ADBB]\n\t(No symbol) [0x00007FF6BE5022BD]\n\t(No symbol) [0x00007FF6BE5A3091]\n\t(No symbol) [0x00007FF6BE5B8BC3]\n\t(No symbol) [0x00007FF6BE59C143]\n\t(No symbol) [0x00007FF6BE56D4A8]\n\t(No symbol) [0x00007FF6BE56C317]\n\t(No symbol) [0x00007FF6BE56D041]\n\tMicrosoft::Applications::Events::EventProperty::to_string [0x00007FF6BE93B47C+1039884]\n\t(No symbol) [0x00007FF6BE5F0D65]\n\tMicrosoft::Applications::Events::EventProperty::~EventProperty [0x00007FF6BE68A82C+36956]\n\tMicrosoft::Applications::Events::EventProperty::~EventProperty [0x00007FF6BE682352+2946]\n\tMicrosoft::Applications::Events::EventProperty::to_string [0x00007FF6BE939EC3+1034323]\n\tMicrosoft::Applications::Events::ILogConfiguration::operator* [0x00007FF6BE722418+269080]\n\tMicrosoft::Applications::Events::ILogConfiguration::operator* [0x00007FF6BE71D0F4+247796]\n\tMicrosoft::Applications::Events::ILogConfiguration::operator* [0x00007FF6BE71D222+248098]\n\tMicrosoft::Applications::Events::ILogConfiguration::operator* [0x00007FF6BE713911+208913]\n\tBaseThreadInitThunk [0x00007FFE8DB3257D+29]\n\tRtlUserThreadStart [0x00007FFE8EBEAA58+40]\n",
     "output_type": "error",
     "traceback": [
      "\u001b[1;31m---------------------------------------------------------------------------\u001b[0m",
      "\u001b[1;31mNoSuchWindowException\u001b[0m                     Traceback (most recent call last)",
      "Cell \u001b[1;32mIn[3], line 54\u001b[0m\n\u001b[0;32m     52\u001b[0m driver\u001b[38;5;241m.\u001b[39mget(order_online_link[\u001b[38;5;241m0\u001b[39m])\n\u001b[0;32m     53\u001b[0m driver\u001b[38;5;241m.\u001b[39mimplicitly_wait(\u001b[38;5;241m10\u001b[39m)\n\u001b[1;32m---> 54\u001b[0m food_items \u001b[38;5;241m=\u001b[39m \u001b[43mdriver\u001b[49m\u001b[38;5;241;43m.\u001b[39;49m\u001b[43mfind_elements\u001b[49m\u001b[43m(\u001b[49m\u001b[43mBy\u001b[49m\u001b[38;5;241;43m.\u001b[39;49m\u001b[43mXPATH\u001b[49m\u001b[43m,\u001b[49m\u001b[43m \u001b[49m\u001b[38;5;124;43m'\u001b[39;49m\u001b[38;5;124;43m//*[@id=\u001b[39;49m\u001b[38;5;124;43m\"\u001b[39;49m\u001b[38;5;124;43mroot\u001b[39;49m\u001b[38;5;124;43m\"\u001b[39;49m\u001b[38;5;124;43m]/div/main/div/section[4]/section/section[2]/section[2]/div[2]/div[\u001b[39;49m\u001b[38;5;124;43m'\u001b[39;49m\u001b[38;5;241;43m+\u001b[39;49m\u001b[38;5;28;43mstr\u001b[39;49m\u001b[43m(\u001b[49m\u001b[43mf\u001b[49m\u001b[43m)\u001b[49m\u001b[38;5;241;43m+\u001b[39;49m\u001b[38;5;124;43m'\u001b[39;49m\u001b[38;5;124;43m]/div/div/div[2]/div/div\u001b[39;49m\u001b[38;5;124;43m'\u001b[39;49m\u001b[43m)\u001b[49m\n\u001b[0;32m     55\u001b[0m \u001b[38;5;28;01mif\u001b[39;00m \u001b[38;5;129;01mnot\u001b[39;00m food_items:\n\u001b[0;32m     56\u001b[0m     \u001b[38;5;28mprint\u001b[39m(\u001b[38;5;124mf\u001b[39m\u001b[38;5;124m\"\u001b[39m\u001b[38;5;124mFood items list is out of range. Skipping \u001b[39m\u001b[38;5;132;01m{\u001b[39;00mname\u001b[38;5;132;01m}\u001b[39;00m\u001b[38;5;124m\"\u001b[39m)\n",
      "File \u001b[1;32mc:\\Users\\SRIJAN\\anaconda3\\envs\\my_place\\Lib\\site-packages\\selenium\\webdriver\\remote\\webdriver.py:772\u001b[0m, in \u001b[0;36mWebDriver.find_elements\u001b[1;34m(self, by, value)\u001b[0m\n\u001b[0;32m    768\u001b[0m     value \u001b[38;5;241m=\u001b[39m \u001b[38;5;124mf\u001b[39m\u001b[38;5;124m'\u001b[39m\u001b[38;5;124m[name=\u001b[39m\u001b[38;5;124m\"\u001b[39m\u001b[38;5;132;01m{\u001b[39;00mvalue\u001b[38;5;132;01m}\u001b[39;00m\u001b[38;5;124m\"\u001b[39m\u001b[38;5;124m]\u001b[39m\u001b[38;5;124m'\u001b[39m\n\u001b[0;32m    770\u001b[0m \u001b[38;5;66;03m# Return empty list if driver returns null\u001b[39;00m\n\u001b[0;32m    771\u001b[0m \u001b[38;5;66;03m# See https://github.com/SeleniumHQ/selenium/issues/4555\u001b[39;00m\n\u001b[1;32m--> 772\u001b[0m \u001b[38;5;28;01mreturn\u001b[39;00m \u001b[38;5;28;43mself\u001b[39;49m\u001b[38;5;241;43m.\u001b[39;49m\u001b[43mexecute\u001b[49m\u001b[43m(\u001b[49m\u001b[43mCommand\u001b[49m\u001b[38;5;241;43m.\u001b[39;49m\u001b[43mFIND_ELEMENTS\u001b[49m\u001b[43m,\u001b[49m\u001b[43m \u001b[49m\u001b[43m{\u001b[49m\u001b[38;5;124;43m\"\u001b[39;49m\u001b[38;5;124;43musing\u001b[39;49m\u001b[38;5;124;43m\"\u001b[39;49m\u001b[43m:\u001b[49m\u001b[43m \u001b[49m\u001b[43mby\u001b[49m\u001b[43m,\u001b[49m\u001b[43m \u001b[49m\u001b[38;5;124;43m\"\u001b[39;49m\u001b[38;5;124;43mvalue\u001b[39;49m\u001b[38;5;124;43m\"\u001b[39;49m\u001b[43m:\u001b[49m\u001b[43m \u001b[49m\u001b[43mvalue\u001b[49m\u001b[43m}\u001b[49m\u001b[43m)\u001b[49m[\u001b[38;5;124m\"\u001b[39m\u001b[38;5;124mvalue\u001b[39m\u001b[38;5;124m\"\u001b[39m] \u001b[38;5;129;01mor\u001b[39;00m []\n",
      "File \u001b[1;32mc:\\Users\\SRIJAN\\anaconda3\\envs\\my_place\\Lib\\site-packages\\selenium\\webdriver\\remote\\webdriver.py:348\u001b[0m, in \u001b[0;36mWebDriver.execute\u001b[1;34m(self, driver_command, params)\u001b[0m\n\u001b[0;32m    346\u001b[0m response \u001b[38;5;241m=\u001b[39m \u001b[38;5;28mself\u001b[39m\u001b[38;5;241m.\u001b[39mcommand_executor\u001b[38;5;241m.\u001b[39mexecute(driver_command, params)\n\u001b[0;32m    347\u001b[0m \u001b[38;5;28;01mif\u001b[39;00m response:\n\u001b[1;32m--> 348\u001b[0m     \u001b[38;5;28;43mself\u001b[39;49m\u001b[38;5;241;43m.\u001b[39;49m\u001b[43merror_handler\u001b[49m\u001b[38;5;241;43m.\u001b[39;49m\u001b[43mcheck_response\u001b[49m\u001b[43m(\u001b[49m\u001b[43mresponse\u001b[49m\u001b[43m)\u001b[49m\n\u001b[0;32m    349\u001b[0m     response[\u001b[38;5;124m\"\u001b[39m\u001b[38;5;124mvalue\u001b[39m\u001b[38;5;124m\"\u001b[39m] \u001b[38;5;241m=\u001b[39m \u001b[38;5;28mself\u001b[39m\u001b[38;5;241m.\u001b[39m_unwrap_value(response\u001b[38;5;241m.\u001b[39mget(\u001b[38;5;124m\"\u001b[39m\u001b[38;5;124mvalue\u001b[39m\u001b[38;5;124m\"\u001b[39m, \u001b[38;5;28;01mNone\u001b[39;00m))\n\u001b[0;32m    350\u001b[0m     \u001b[38;5;28;01mreturn\u001b[39;00m response\n",
      "File \u001b[1;32mc:\\Users\\SRIJAN\\anaconda3\\envs\\my_place\\Lib\\site-packages\\selenium\\webdriver\\remote\\errorhandler.py:229\u001b[0m, in \u001b[0;36mErrorHandler.check_response\u001b[1;34m(self, response)\u001b[0m\n\u001b[0;32m    227\u001b[0m         alert_text \u001b[38;5;241m=\u001b[39m value[\u001b[38;5;124m\"\u001b[39m\u001b[38;5;124malert\u001b[39m\u001b[38;5;124m\"\u001b[39m]\u001b[38;5;241m.\u001b[39mget(\u001b[38;5;124m\"\u001b[39m\u001b[38;5;124mtext\u001b[39m\u001b[38;5;124m\"\u001b[39m)\n\u001b[0;32m    228\u001b[0m     \u001b[38;5;28;01mraise\u001b[39;00m exception_class(message, screen, stacktrace, alert_text)  \u001b[38;5;66;03m# type: ignore[call-arg]  # mypy is not smart enough here\u001b[39;00m\n\u001b[1;32m--> 229\u001b[0m \u001b[38;5;28;01mraise\u001b[39;00m exception_class(message, screen, stacktrace)\n",
      "\u001b[1;31mNoSuchWindowException\u001b[0m: Message: no such window: target window already closed\nfrom unknown error: web view not found\n  (Session info: MicrosoftEdge=121.0.2277.83)\nStacktrace:\n\tGetHandleVerifier [0x00007FF6BE78AD02+60770]\n\tMicrosoft::Applications::Events::ILogConfiguration::operator* [0x00007FF6BE7184B2+228274]\n\t(No symbol) [0x00007FF6BE52ADBB]\n\t(No symbol) [0x00007FF6BE5022BD]\n\t(No symbol) [0x00007FF6BE5A3091]\n\t(No symbol) [0x00007FF6BE5B8BC3]\n\t(No symbol) [0x00007FF6BE59C143]\n\t(No symbol) [0x00007FF6BE56D4A8]\n\t(No symbol) [0x00007FF6BE56C317]\n\t(No symbol) [0x00007FF6BE56D041]\n\tMicrosoft::Applications::Events::EventProperty::to_string [0x00007FF6BE93B47C+1039884]\n\t(No symbol) [0x00007FF6BE5F0D65]\n\tMicrosoft::Applications::Events::EventProperty::~EventProperty [0x00007FF6BE68A82C+36956]\n\tMicrosoft::Applications::Events::EventProperty::~EventProperty [0x00007FF6BE682352+2946]\n\tMicrosoft::Applications::Events::EventProperty::to_string [0x00007FF6BE939EC3+1034323]\n\tMicrosoft::Applications::Events::ILogConfiguration::operator* [0x00007FF6BE722418+269080]\n\tMicrosoft::Applications::Events::ILogConfiguration::operator* [0x00007FF6BE71D0F4+247796]\n\tMicrosoft::Applications::Events::ILogConfiguration::operator* [0x00007FF6BE71D222+248098]\n\tMicrosoft::Applications::Events::ILogConfiguration::operator* [0x00007FF6BE713911+208913]\n\tBaseThreadInitThunk [0x00007FFE8DB3257D+29]\n\tRtlUserThreadStart [0x00007FFE8EBEAA58+40]\n"
     ]
    }
   ],
   "source": [
    "import pandas as pd\n",
    "from selenium import webdriver\n",
    "from selenium.webdriver.common.by import By\n",
    "from selenium.common.exceptions import NoSuchElementException\n",
    "import time\n",
    "from bs4 import BeautifulSoup\n",
    "\n",
    "# Create an empty DataFrame to store restaurant details\n",
    "restaurant_df = pd.DataFrame(columns=['Restaurant Name', 'Order Items', 'Prices', 'Rating', 'Votes'])\n",
    "\n",
    "driver = webdriver.Edge()\n",
    "\n",
    "url = \"https://www.zomato.com/india\"\n",
    "driver.get(url)\n",
    "\n",
    "# Wait for the page to load (you can adjust the sleep time based on your needs)\n",
    "time.sleep(5)\n",
    "\n",
    "# Find all the restaurant links using the appropriate XPath\n",
    "cities = driver.find_elements(By.XPATH, '//div[@class=\"sc-bke1zw-1 fTtEw\"]/a')\n",
    "cities_1 = driver.find_elements(By.XPATH, '//div[@class=\"sc-bke1zw-1 bcVYKA\"]/a')\n",
    "\n",
    "# Create a list to store the href values\n",
    "hrefs = []\n",
    "\n",
    "# Iterate through the found links and extract href attributes\n",
    "for city, city_1 in zip(cities, cities_1):\n",
    "    link_0 = city.get_attribute('href')\n",
    "    link_1 = city_1.get_attribute('href')\n",
    "    hrefs.extend([link_0, link_1])\n",
    "\n",
    "# Open each link in the browser\n",
    "for link in hrefs:\n",
    "    driver.get(link)\n",
    "    print(link)\n",
    "    \n",
    "    for i in range(10, 13):\n",
    "        for j in range(1, 4):\n",
    "            restaurant_in = driver.find_element(By.XPATH, '//*[@id=\"root\"]/div/div['+str(i)+']/div/div['+str(j)+']/div/div/a[2]')\n",
    "            name = restaurant_in.text.split('\\n')[0]  # Extract only the restaurant name\n",
    "            print(name)\n",
    "            rest_href = restaurant_in.get_attribute('href')\n",
    "            driver.get(rest_href)\n",
    "            \n",
    "            try:\n",
    "                order_online_links = driver.find_elements(By.CSS_SELECTOR, '.sc-1y3q50z-5.jPTnRn a') \n",
    "                order_online_link = [link.get_attribute('href') for link in order_online_links if 'Order Online' in link.text]\n",
    "                print(\"Order Online Link:\", order_online_link)\n",
    "                \n",
    "                for f in range(1, 100):\n",
    "                    if order_online_link:\n",
    "                        driver.get(order_online_link[0])\n",
    "                        driver.implicitly_wait(10)\n",
    "                        food_items = driver.find_elements(By.XPATH, '//*[@id=\"root\"]/div/main/div/section[4]/section/section[2]/section[2]/div[2]/div['+str(f)+']/div/div/div[2]/div/div')\n",
    "                        if not food_items:\n",
    "                            print(f\"Food items list is out of range. Skipping {name}\")\n",
    "                            break\n",
    "\n",
    "                        print(food_items)\n",
    "                        for item in food_items:\n",
    "                            print(item.text)\n",
    "                        \n",
    "                        time.sleep(5)\n",
    "\n",
    "                    rating_1 = 0\n",
    "                    star_elements = driver.find_elements(By.XPATH, '//*[@id=\"root\"]/div/main/div/section[4]/section/section[2]/section[2]/div[2]/div['+str(f)+']/div/div/div[2]/div/div/div[1]/div/i')\n",
    "\n",
    "                    try:\n",
    "                        for star in range(len(star_elements)):\n",
    "                            html_string = star_elements[star].get_attribute('innerHTML')\n",
    "                            soup = BeautifulSoup(html_string, 'lxml')\n",
    "                            fill_value = soup.svg['fill']\n",
    "                            title_text = soup.title.text\n",
    "                            if fill_value == '#F3C117' and title_text == 'star-fill':\n",
    "                                rating_1 += 1\n",
    "                            else:\n",
    "                                rating_1 += 0\n",
    "                    except Exception as e:\n",
    "                        print(f\"Error: {e}\")\n",
    "\n",
    "                        soup = BeautifulSoup(html_string, 'html.parser')\n",
    "                        linear_gradient = soup.find('linearGradient')\n",
    "                        stops = linear_gradient.find_all('stop')\n",
    "                        percentage = stops[1]['offset']\n",
    "                        decimal_rating = int(percentage.strip('%')) / 100\n",
    "\n",
    "                        rating_1 = decimal_rating\n",
    "\n",
    "                    rating = 0\n",
    "                    star_elements = driver.find_elements(By.XPATH, '//*[@id=\"root\"]/div/main/div/section[4]/section/section[2]/section[2]/div[2]/div['+str(f)+']/div/div/div[2]/div/div/div[1]/div/i')\n",
    "                    try:\n",
    "                        for star in range(len(star_elements)):\n",
    "                            html_string = star_elements[star].get_attribute('innerHTML')\n",
    "                            soup = BeautifulSoup(html_string, 'lxml')\n",
    "                            fill_value = soup.svg['fill']\n",
    "                            title_text = soup.title.text\n",
    "                            if fill_value == '#F3C117' and title_text == 'star-fill':\n",
    "                                rating += 1\n",
    "                    except Exception as e:\n",
    "                        # Handle specific exceptions or log the error\n",
    "                        print(f\"Error: {e}\")\n",
    "\n",
    "                        soup = BeautifulSoup(html_string, 'html.parser')\n",
    "                        linear_gradient = soup.find('linearGradient')\n",
    "                        if linear_gradient:\n",
    "                            linear_gradient_id = linear_gradient['id']\n",
    "                            linear_gradient_x1 = linear_gradient['x1']\n",
    "                            linear_gradient_x2 = linear_gradient['x2']\n",
    "\n",
    "                            stops = linear_gradient.find_all('stop')\n",
    "                            percentage = stops[1]['offset']\n",
    "                            decimal_rating = int(percentage.strip('%')) / 100\n",
    "\n",
    "                            rating = decimal_rating\n",
    "                    ratings = rating + rating_1\n",
    "                    print(\"Rate\",ratings)\n",
    "\n",
    "                # Add the scraped data to the DataFrame\n",
    "                restaurant_df = pd.concat([restaurant_df, pd.DataFrame({\n",
    "                    'Restaurant Name': [name],\n",
    "                    'Rating': [ratings],\n",
    "                })], ignore_index=True)\n",
    "\n",
    "                print(f\"Scraped data for {name}\")\n",
    "\n",
    "            except NoSuchElementException:\n",
    "                print(f'Order Online link not found on this page. Skipping...', rest_href)\n",
    "\n",
    "            # After scraping, you can go back to the previous page if needed\n",
    "            driver.back()\n",
    "            time.sleep(5)\n",
    "\n",
    "# Save the DataFrame to a CSV file after the outer loop\n",
    "restaurant_df.to_csv('order_details.csv', index=False)\n",
    "\n",
    "# Display the final DataFrame with restaurant details\n",
    "print(restaurant_df)\n",
    "\n",
    "# Close the browser\n",
    "driver.quit()\n"
   ]
  },
  {
   "cell_type": "code",
   "execution_count": null,
   "metadata": {},
   "outputs": [],
   "source": []
  }
 ],
 "metadata": {
  "kernelspec": {
   "display_name": "my_place",
   "language": "python",
   "name": "python3"
  },
  "language_info": {
   "codemirror_mode": {
    "name": "ipython",
    "version": 3
   },
   "file_extension": ".py",
   "mimetype": "text/x-python",
   "name": "python",
   "nbconvert_exporter": "python",
   "pygments_lexer": "ipython3",
   "version": "3.12.0"
  }
 },
 "nbformat": 4,
 "nbformat_minor": 2
}
